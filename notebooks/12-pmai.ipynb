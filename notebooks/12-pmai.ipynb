{
 "cells": [
  {
   "cell_type": "markdown",
   "id": "089edaf7",
   "metadata": {},
   "source": [
    "# Portfolio management and artificial intelligence"
   ]
  },
  {
   "cell_type": "code",
   "execution_count": null,
   "id": "b29c8961",
   "metadata": {},
   "outputs": [],
   "source": [
    "import tensorflow as tf\n",
    "\n",
    "tf.__version__"
   ]
  }
 ],
 "metadata": {
  "kernelspec": {
   "display_name": "Python 3 (ipykernel)",
   "language": "python",
   "name": "python3"
  },
  "language_info": {
   "codemirror_mode": {
    "name": "ipython",
    "version": 3
   },
   "file_extension": ".py",
   "mimetype": "text/x-python",
   "name": "python",
   "nbconvert_exporter": "python",
   "pygments_lexer": "ipython3",
   "version": "3.9.13"
  }
 },
 "nbformat": 4,
 "nbformat_minor": 5
}
